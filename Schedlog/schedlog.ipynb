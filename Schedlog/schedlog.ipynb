{
 "cells": [
  {
   "cell_type": "code",
   "execution_count": null,
   "metadata": {},
   "outputs": [],
   "source": [
    "#%load_ext blackcellmagic\n",
    "import pandas as pd\n",
    "import datetime as dt\n",
    "import schedule\n",
    "import time"
   ]
  },
  {
   "cell_type": "code",
   "execution_count": null,
   "metadata": {},
   "outputs": [],
   "source": [
    "# Log generator function\n",
    "def log_gen():\n",
    "    \"\"\"function that analyze types of every elemnt in a list and compare it to a type list\"\"\"\n",
    "\n",
    "    log_path = r\"C:\\Users\\Thomas\\Desktop\\Python projects\\log files with pandas\\Logs\\\\\"\n",
    "    log_data_str = \"%Y-%m-%d %H_%M_%S\"\n",
    "    msg_pref_dct = {1: \"ERROR\", 2: \"WARNING\"}\n",
    "    msg_body_dct = {1: \"Datapoint is not instantiated with correct type\"}\n",
    "    log = []\n",
    "        \n",
    "    to_analyze = [\"a\", \"b\", \"c\", \"d\", 0]\n",
    "    type_check = [int, float]\n",
    "\n",
    "    inst_status = [(i, isinstance(i, j)) for i in to_analyze for j in type_check]\n",
    "\n",
    "    for k, v in inst_status:\n",
    "        if v == False:\n",
    "            dt_metric = dt.datetime.strftime(dt.datetime.now(), log_data_str)\n",
    "            msg = f\"{dt_metric} - {msg_pref_dct[1]} '{k}' {msg_body_dct[1]}\"\n",
    "            if msg in log:\n",
    "                pass\n",
    "            else:\n",
    "                log.append(msg)\n",
    "        else:\n",
    "            pass\n",
    "\n",
    "    log_name = log_path + dt.datetime.strftime(dt.datetime.now(), log_data_str) + \".txt\"\n",
    "    pd.Series(log).to_csv(log_name, index=False)\n",
    "    return"
   ]
  },
  {
   "cell_type": "code",
   "execution_count": null,
   "metadata": {},
   "outputs": [],
   "source": [
    "# define scheduled execution\n",
    "schedule.every().minute.do(log_gen)\n",
    "\n",
    "# execute scheduled execution\n",
    "while True:\n",
    "    schedule.run_pending()\n",
    "    time.sleep(1)"
   ]
  }
 ],
 "metadata": {
  "kernelspec": {
   "display_name": "Python 3",
   "language": "python",
   "name": "python3"
  },
  "language_info": {
   "codemirror_mode": {
    "name": "ipython",
    "version": 3
   },
   "file_extension": ".py",
   "mimetype": "text/x-python",
   "name": "python",
   "nbconvert_exporter": "python",
   "pygments_lexer": "ipython3",
   "version": "3.7.1"
  },
  "toc": {
   "base_numbering": 1,
   "nav_menu": {},
   "number_sections": true,
   "sideBar": true,
   "skip_h1_title": false,
   "title_cell": "Table of Contents",
   "title_sidebar": "Contents",
   "toc_cell": false,
   "toc_position": {},
   "toc_section_display": true,
   "toc_window_display": false
  }
 },
 "nbformat": 4,
 "nbformat_minor": 2
}
